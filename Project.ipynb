{
 "cells": [
  {
   "metadata": {
    "ExecuteTime": {
     "end_time": "2024-11-28T03:06:13.449404Z",
     "start_time": "2024-11-28T03:06:13.447571Z"
    }
   },
   "cell_type": "code",
   "source": "",
   "id": "45cc9beae2482ace",
   "outputs": [],
   "execution_count": null
  },
  {
   "cell_type": "markdown",
   "id": "cdfaa515-baac-4639-8de6-773269fa5112",
   "metadata": {},
   "source": [
    "## Preprocess the dataset "
   ]
  },
  {
   "cell_type": "markdown",
   "id": "17c3ef82-2a81-4ff7-ac56-13d538bcf0ce",
   "metadata": {},
   "source": [
    "### Import libraries and datasets"
   ]
  },
  {
   "cell_type": "code",
   "id": "bb3873e7-ef66-4590-8729-44eaa4ac1c88",
   "metadata": {
    "ExecuteTime": {
     "end_time": "2024-11-28T04:19:19.855935Z",
     "start_time": "2024-11-28T04:19:19.852195Z"
    }
   },
   "source": [
    "# Import all libraries needed. \n",
    "import pandas as pd\n",
    "import matplotlib.pyplot as plt\n",
    "import seaborn as sns\n",
    "import numpy as np\n",
    "from sklearn.preprocessing import LabelEncoder\n",
    "from scipy.stats import zscore\n",
    "# Imports for KNN\n",
    "from sklearn.preprocessing import StandardScaler\n",
    "from sklearn.neighbors import KNeighborsClassifier\n",
    "from sklearn.model_selection import train_test_split\n",
    "from sklearn.metrics import classification_report, confusion_matrix, accuracy_score\n",
    "from sklearn.experimental import enable_iterative_imputer\n",
    "from sklearn.impute import IterativeImputer\n",
    "\n",
    "# Random forest\n",
    "from sklearn.ensemble import RandomForestClassifier\n",
    "from sklearn.metrics import classification_report, confusion_matrix, accuracy_score\n",
    "from imblearn.over_sampling import SMOTE\n"
   ],
   "outputs": [],
   "execution_count": 45
  },
  {
   "cell_type": "code",
   "id": "8ec3eff3-d9d4-4a90-80cb-a871f4b5a783",
   "metadata": {
    "ExecuteTime": {
     "end_time": "2024-11-28T03:08:44.052620Z",
     "start_time": "2024-11-28T03:08:38.609952Z"
    }
   },
   "source": [
    "# Load each dataset\n",
    "monday = pd.read_csv('dataset/Monday-WorkingHours.pcap_ISCX.csv')\n",
    "tuesday = pd.read_csv('dataset/Tuesday-WorkingHours.pcap_ISCX.csv')\n",
    "wednesday = pd.read_csv('dataset/Wednesday-workingHours.pcap_ISCX.csv')\n",
    "thursday = pd.read_csv('dataset/Thursday-WorkingHours-Morning-WebAttacks.pcap_ISCX.csv')\n",
    "friday_ddos = pd.read_csv('dataset/Friday-WorkingHours-Afternoon-DDos.pcap_ISCX.csv')\n",
    "friday_portscan = pd.read_csv('dataset/Friday-WorkingHours-Afternoon-PortScan.pcap_ISCX.csv')\n",
    "\n",
    "# Add a 'Day' column\n",
    "monday['Day'] = 'Monday'\n",
    "tuesday['Day'] = 'Tuesday'\n",
    "wednesday['Day'] = 'Wednesday'\n",
    "thursday['Day'] = 'Thursday'\n",
    "friday_ddos['Day'] = 'Friday-DDOS'\n",
    "friday_portscan['Day'] = 'Friday-PortScan'\n",
    "\n",
    "# Combine all datasets\n",
    "all_data = pd.concat([monday, tuesday, wednesday, thursday, friday_ddos, friday_portscan], ignore_index=True)\n",
    "\n",
    "# Display combined dataset info\n",
    "print(all_data.info())"
   ],
   "outputs": [
    {
     "name": "stdout",
     "output_type": "stream",
     "text": [
      "<class 'pandas.core.frame.DataFrame'>\n",
      "RangeIndex: 2351108 entries, 0 to 2351107\n",
      "Data columns (total 80 columns):\n",
      " #   Column                        Dtype  \n",
      "---  ------                        -----  \n",
      " 0    Destination Port             int64  \n",
      " 1    Flow Duration                int64  \n",
      " 2    Total Fwd Packets            int64  \n",
      " 3    Total Backward Packets       int64  \n",
      " 4   Total Length of Fwd Packets   int64  \n",
      " 5    Total Length of Bwd Packets  int64  \n",
      " 6    Fwd Packet Length Max        int64  \n",
      " 7    Fwd Packet Length Min        int64  \n",
      " 8    Fwd Packet Length Mean       float64\n",
      " 9    Fwd Packet Length Std        float64\n",
      " 10  Bwd Packet Length Max         int64  \n",
      " 11   Bwd Packet Length Min        int64  \n",
      " 12   Bwd Packet Length Mean       float64\n",
      " 13   Bwd Packet Length Std        float64\n",
      " 14  Flow Bytes/s                  float64\n",
      " 15   Flow Packets/s               float64\n",
      " 16   Flow IAT Mean                float64\n",
      " 17   Flow IAT Std                 float64\n",
      " 18   Flow IAT Max                 int64  \n",
      " 19   Flow IAT Min                 int64  \n",
      " 20  Fwd IAT Total                 int64  \n",
      " 21   Fwd IAT Mean                 float64\n",
      " 22   Fwd IAT Std                  float64\n",
      " 23   Fwd IAT Max                  int64  \n",
      " 24   Fwd IAT Min                  int64  \n",
      " 25  Bwd IAT Total                 int64  \n",
      " 26   Bwd IAT Mean                 float64\n",
      " 27   Bwd IAT Std                  float64\n",
      " 28   Bwd IAT Max                  int64  \n",
      " 29   Bwd IAT Min                  int64  \n",
      " 30  Fwd PSH Flags                 int64  \n",
      " 31   Bwd PSH Flags                int64  \n",
      " 32   Fwd URG Flags                int64  \n",
      " 33   Bwd URG Flags                int64  \n",
      " 34   Fwd Header Length            int64  \n",
      " 35   Bwd Header Length            int64  \n",
      " 36  Fwd Packets/s                 float64\n",
      " 37   Bwd Packets/s                float64\n",
      " 38   Min Packet Length            int64  \n",
      " 39   Max Packet Length            int64  \n",
      " 40   Packet Length Mean           float64\n",
      " 41   Packet Length Std            float64\n",
      " 42   Packet Length Variance       float64\n",
      " 43  FIN Flag Count                int64  \n",
      " 44   SYN Flag Count               int64  \n",
      " 45   RST Flag Count               int64  \n",
      " 46   PSH Flag Count               int64  \n",
      " 47   ACK Flag Count               int64  \n",
      " 48   URG Flag Count               int64  \n",
      " 49   CWE Flag Count               int64  \n",
      " 50   ECE Flag Count               int64  \n",
      " 51   Down/Up Ratio                int64  \n",
      " 52   Average Packet Size          float64\n",
      " 53   Avg Fwd Segment Size         float64\n",
      " 54   Avg Bwd Segment Size         float64\n",
      " 55   Fwd Header Length.1          int64  \n",
      " 56  Fwd Avg Bytes/Bulk            int64  \n",
      " 57   Fwd Avg Packets/Bulk         int64  \n",
      " 58   Fwd Avg Bulk Rate            int64  \n",
      " 59   Bwd Avg Bytes/Bulk           int64  \n",
      " 60   Bwd Avg Packets/Bulk         int64  \n",
      " 61  Bwd Avg Bulk Rate             int64  \n",
      " 62  Subflow Fwd Packets           int64  \n",
      " 63   Subflow Fwd Bytes            int64  \n",
      " 64   Subflow Bwd Packets          int64  \n",
      " 65   Subflow Bwd Bytes            int64  \n",
      " 66  Init_Win_bytes_forward        int64  \n",
      " 67   Init_Win_bytes_backward      int64  \n",
      " 68   act_data_pkt_fwd             int64  \n",
      " 69   min_seg_size_forward         int64  \n",
      " 70  Active Mean                   float64\n",
      " 71   Active Std                   float64\n",
      " 72   Active Max                   int64  \n",
      " 73   Active Min                   int64  \n",
      " 74  Idle Mean                     float64\n",
      " 75   Idle Std                     float64\n",
      " 76   Idle Max                     int64  \n",
      " 77   Idle Min                     int64  \n",
      " 78   Label                        object \n",
      " 79  Day                           object \n",
      "dtypes: float64(24), int64(54), object(2)\n",
      "memory usage: 1.4+ GB\n",
      "None\n"
     ]
    }
   ],
   "execution_count": 2
  },
  {
   "cell_type": "markdown",
   "id": "5b9a3d75-1e96-46c7-8701-6b8a408ee847",
   "metadata": {},
   "source": [
    "### Clean the dataset "
   ]
  },
  {
   "cell_type": "code",
   "id": "50931345-a6dc-4f3b-8bf1-780f158096f0",
   "metadata": {
    "ExecuteTime": {
     "end_time": "2024-11-28T03:45:43.053640Z",
     "start_time": "2024-11-28T03:26:53.979752Z"
    }
   },
   "source": [
    "# Calculate the threshold for keeping rows (50% of total columns)\n",
    "threshold = len(all_data.columns) / 2\n",
    "\n",
    "# Drop rows with more than 50% missing values\n",
    "data_cleaned = all_data.dropna(thresh=threshold)\n",
    "\n",
    "print(\"Number of rows before cleaning:\", len(all_data))\n",
    "print(\"Number of rows after cleaning:\", len(data_cleaned))\n",
    "\n",
    "# Separate numerical and categorical columns\n",
    "numerical_cols = data_cleaned.select_dtypes(include=['float64', 'int64']).columns\n",
    "categorical_cols = data_cleaned.select_dtypes(include=['object', 'category']).columns\n",
    "\n",
    "# Replace inf and -inf with NaN\n",
    "data_cleaned.replace([np.inf, -np.inf], np.nan, inplace=True)\n",
    "\n",
    "# Cap extremely large values only for numerical columns\n",
    "max_threshold = 1e6\n",
    "data_cleaned[numerical_cols] = data_cleaned[numerical_cols].clip(upper=max_threshold)\n",
    "\n",
    "# Impute numerical columns\n",
    "imputer = IterativeImputer(random_state=42)\n",
    "data_cleaned[numerical_cols] = imputer.fit_transform(data_cleaned[numerical_cols])\n",
    "\n",
    "# Encode categorical columns\n",
    "encoder = LabelEncoder()\n",
    "for col in categorical_cols:\n",
    "    data_cleaned[col] = encoder.fit_transform(data_cleaned[col].astype(str))\n",
    "\n",
    "# Verify imputation\n",
    "print(\"Missing values after imputation:\")\n",
    "print(data_cleaned.isnull().sum())"
   ],
   "outputs": [
    {
     "name": "stdout",
     "output_type": "stream",
     "text": [
      "Number of rows before cleaning: 2351108\n",
      "Number of rows after cleaning: 2351108\n",
      "Missing values after imputation:\n",
      " Destination Port              0\n",
      " Flow Duration                 0\n",
      " Total Fwd Packets             0\n",
      " Total Backward Packets        0\n",
      "Total Length of Fwd Packets    0\n",
      "                              ..\n",
      " Idle Std                      0\n",
      " Idle Max                      0\n",
      " Idle Min                      0\n",
      " Label                         0\n",
      "Day                            0\n",
      "Length: 80, dtype: int64\n"
     ]
    }
   ],
   "execution_count": 13
  },
  {
   "metadata": {
    "ExecuteTime": {
     "end_time": "2024-11-28T04:00:17.483882Z",
     "start_time": "2024-11-28T04:00:17.257521Z"
    }
   },
   "cell_type": "code",
   "source": [
    "# Total number of missing values across all columns\n",
    "total_missing = data_cleaned.isnull().sum().sum()\n",
    "\n",
    "print(f\"Total number of missing values in the dataset: {total_missing}\")\n",
    "# Save the cleaned dataset to a CSV file\n",
    "data_cleaned.to_csv('cleaned_dataset.csv', index=False)\n",
    "\n",
    "# Copy the cleaned dataset to use it everywhere\n",
    "all_data = data_cleaned"
   ],
   "id": "9c24e5adaf7db09c",
   "outputs": [
    {
     "name": "stdout",
     "output_type": "stream",
     "text": [
      "Total number of missing values in the dataset: 0\n",
      "Data :  0\n"
     ]
    }
   ],
   "execution_count": 25
  },
  {
   "metadata": {},
   "cell_type": "markdown",
   "source": [
    "```IterativeImputer```:\n",
    "- This is a scikit-learn imputation class that fills missing values in numerical data.\n",
    "- It uses a multivariate approach: missing values are predicted based on other columns using a regression model.\n",
    "- It works iteratively: each feature with missing values is modeled as a function of other features, and the process is repeated multiple times for refinement.\n",
    "```.fit_transform()```:\n",
    "- fit(): Learns the patterns and relationships in the data to create a model for imputing missing values.\n",
    "- transform(): Applies the learned imputation model to fill the missing values.\n",
    "\n",
    "\t"
   ],
   "id": "70ae5c256545bb17"
  },
  {
   "cell_type": "markdown",
   "id": "5668a925-f1b5-430c-983a-275af76e0b8a",
   "metadata": {},
   "source": "### Exploring the data"
  },
  {
   "cell_type": "code",
   "id": "a60fe0df-3a81-493d-83b1-b775f3e3eca0",
   "metadata": {
    "ExecuteTime": {
     "end_time": "2024-11-28T03:58:48.398099Z",
     "start_time": "2024-11-28T03:58:45.333344Z"
    }
   },
   "source": [
    "# Summary of the dataset\n",
    "print(all_data.describe())"
   ],
   "outputs": [
    {
     "name": "stdout",
     "output_type": "stream",
     "text": [
      "        Destination Port   Flow Duration   Total Fwd Packets  \\\n",
      "count       2.351108e+06    2.351108e+06        2.351108e+06   \n",
      "mean        8.163563e+03    3.337319e+05        9.382722e+00   \n",
      "std         1.849374e+04    4.445273e+05        7.603036e+02   \n",
      "min         0.000000e+00   -1.300000e+01        1.000000e+00   \n",
      "25%         5.300000e+01    1.630000e+02        1.000000e+00   \n",
      "50%         8.000000e+01    3.574800e+04        2.000000e+00   \n",
      "75%         4.430000e+02    1.000000e+06        5.000000e+00   \n",
      "max         6.553500e+04    1.000000e+06        2.197590e+05   \n",
      "\n",
      "        Total Backward Packets  Total Length of Fwd Packets  \\\n",
      "count             2.351108e+06                 2.351108e+06   \n",
      "mean              1.041678e+01                 5.409034e+02   \n",
      "std               1.009094e+03                 5.117577e+03   \n",
      "min               0.000000e+00                 0.000000e+00   \n",
      "25%               1.000000e+00                 1.200000e+01   \n",
      "50%               2.000000e+00                 6.200000e+01   \n",
      "75%               5.000000e+00                 2.980000e+02   \n",
      "max               2.919220e+05                 1.000000e+06   \n",
      "\n",
      "        Total Length of Bwd Packets   Fwd Packet Length Max  \\\n",
      "count                  2.351108e+06            2.351108e+06   \n",
      "mean                   4.942392e+03            2.184657e+02   \n",
      "std                    3.655508e+04            7.551473e+02   \n",
      "min                    0.000000e+00            0.000000e+00   \n",
      "25%                    2.000000e+00            6.000000e+00   \n",
      "50%                    1.280000e+02            3.700000e+01   \n",
      "75%                    6.900000e+02            1.890000e+02   \n",
      "max                    1.000000e+06            2.482000e+04   \n",
      "\n",
      "        Fwd Packet Length Min   Fwd Packet Length Mean  \\\n",
      "count            2.351108e+06             2.351108e+06   \n",
      "mean             1.848265e+01             6.074475e+01   \n",
      "std              6.413143e+01             1.969819e+02   \n",
      "min              0.000000e+00             0.000000e+00   \n",
      "25%              0.000000e+00             6.000000e+00   \n",
      "50%              2.000000e+00             3.400000e+01   \n",
      "75%              3.600000e+01             5.077551e+01   \n",
      "max              2.293000e+03             4.672000e+03   \n",
      "\n",
      "        Fwd Packet Length Std  ...   Active Mean    Active Std    Active Max  \\\n",
      "count            2.351108e+06  ...  2.351108e+06  2.351108e+06  2.351108e+06   \n",
      "mean             7.388978e+01  ...  3.864476e+04  2.284965e+04  5.788069e+04   \n",
      "std              3.010404e+02  ...  1.565202e+05  1.264163e+05  2.042036e+05   \n",
      "min              0.000000e+00  ...  0.000000e+00  0.000000e+00  0.000000e+00   \n",
      "25%              0.000000e+00  ...  0.000000e+00  0.000000e+00  0.000000e+00   \n",
      "50%              0.000000e+00  ...  0.000000e+00  0.000000e+00  0.000000e+00   \n",
      "75%              4.497900e+01  ...  0.000000e+00  0.000000e+00  0.000000e+00   \n",
      "max              7.125597e+03  ...  1.000000e+06  1.000000e+06  1.000000e+06   \n",
      "\n",
      "         Active Min     Idle Mean      Idle Std      Idle Max      Idle Min  \\\n",
      "count  2.351108e+06  2.351108e+06  2.351108e+06  2.351108e+06  2.351108e+06   \n",
      "mean   2.540376e+04  2.125406e+05  3.184641e+04  2.125406e+05  2.125406e+05   \n",
      "std    1.259860e+05  4.091054e+05  1.648987e+05  4.091054e+05  4.091054e+05   \n",
      "min    0.000000e+00  0.000000e+00  0.000000e+00  0.000000e+00  0.000000e+00   \n",
      "25%    0.000000e+00  0.000000e+00  0.000000e+00  0.000000e+00  0.000000e+00   \n",
      "50%    0.000000e+00  0.000000e+00  0.000000e+00  0.000000e+00  0.000000e+00   \n",
      "75%    0.000000e+00  0.000000e+00  0.000000e+00  0.000000e+00  0.000000e+00   \n",
      "max    1.000000e+06  1.000000e+06  1.000000e+06  1.000000e+06  1.000000e+06   \n",
      "\n",
      "              Label           Day  \n",
      "count  2.351108e+06  2.351108e+06  \n",
      "mean   9.732224e-01  3.021789e+00  \n",
      "std    2.205611e+00  1.715987e+00  \n",
      "min    0.000000e+00  0.000000e+00  \n",
      "25%    0.000000e+00  2.000000e+00  \n",
      "50%    0.000000e+00  3.000000e+00  \n",
      "75%    0.000000e+00  5.000000e+00  \n",
      "max    1.200000e+01  5.000000e+00  \n",
      "\n",
      "[8 rows x 80 columns]\n"
     ]
    }
   ],
   "execution_count": 23
  },
  {
   "cell_type": "code",
   "id": "81ba21ce-e131-484b-ab64-607ab51bdee7",
   "metadata": {
    "ExecuteTime": {
     "end_time": "2024-11-28T04:00:33.311213Z",
     "start_time": "2024-11-28T04:00:33.230676Z"
    }
   },
   "source": [
    "# Strip leading and trailing whitespace from column names\n",
    "all_data.columns = all_data.columns.str.strip()\n",
    "\n",
    "# Now access the 'Label' column\n",
    "print(all_data['Label'].value_counts())\n",
    "\n",
    "all_data['Label'].value_counts().plot(kind='bar')\n",
    "plt.title('Class Distribution')\n",
    "plt.xlabel('Class')\n",
    "plt.ylabel('Count')\n",
    "plt.show()"
   ],
   "outputs": [
    {
     "name": "stdout",
     "output_type": "stream",
     "text": [
      "Label\n",
      "0     1795464\n",
      "3      231073\n",
      "8      158930\n",
      "1      128027\n",
      "2       10293\n",
      "6        7938\n",
      "9        5897\n",
      "5        5796\n",
      "4        5499\n",
      "10       1507\n",
      "12        652\n",
      "11         21\n",
      "7          11\n",
      "Name: count, dtype: int64\n"
     ]
    },
    {
     "data": {
      "text/plain": [
       "<Figure size 640x480 with 1 Axes>"
      ],
      "image/png": "[encoded data removed]"
     },
     "metadata": {},
     "output_type": "display_data"
    }
   ],
   "execution_count": 26
  },
  {
   "cell_type": "code",
   "id": "30da9757-ae55-4fbd-88ed-cceca78024e6",
   "metadata": {
    "ExecuteTime": {
     "end_time": "2024-11-28T04:00:40.793976Z",
     "start_time": "2024-11-28T04:00:37.082499Z"
    }
   },
   "source": [
    "# Select numerical columns\n",
    "numerical_columns = all_data.select_dtypes(include=['number']).columns\n",
    "\n",
    "# Cap extreme values at the 1st and 99th percentiles\n",
    "for col in numerical_columns:\n",
    "    lower_bound = all_data[col].quantile(0.01)  # 1st percentile\n",
    "    upper_bound = all_data[col].quantile(0.99)  # 99th percentile\n",
    "    all_data[col] = all_data[col].clip(lower=lower_bound, upper=upper_bound)\n",
    "\n",
    "# Verify the new range\n",
    "print(all_data[numerical_columns].agg(['min', 'max']).T)\n",
    "\n",
    "# List of key features\n",
    "key_features = ['Flow Duration', 'Total Fwd Packets', 'Total Length of Fwd Packets', 'Idle Max']\n",
    "\n",
    "# Plot histograms for key features\n",
    "all_data[key_features].hist(figsize=(10, 6), bins=30)\n",
    "plt.suptitle('Key Feature Distributions')\n",
    "plt.show()"
   ],
   "outputs": [
    {
     "name": "stdout",
     "output_type": "stream",
     "text": [
      "                              min         max\n",
      "Destination Port             22.0    61948.93\n",
      "Flow Duration                 1.0  1000000.00\n",
      "Total Fwd Packets             1.0       47.00\n",
      "Total Backward Packets        0.0       55.00\n",
      "Total Length of Fwd Packets   0.0    11601.00\n",
      "...                           ...         ...\n",
      "Idle Std                      0.0  1000000.00\n",
      "Idle Max                      0.0  1000000.00\n",
      "Idle Min                      0.0  1000000.00\n",
      "Label                         0.0        8.00\n",
      "Day                           0.0        5.00\n",
      "\n",
      "[80 rows x 2 columns]\n"
     ]
    },
    {
     "data": {
      "text/plain": [
       "<Figure size 1000x600 with 4 Axes>"
      ],
      "image/png": "[encoded data removed]"
     },
     "metadata": {},
     "output_type": "display_data"
    }
   ],
   "execution_count": 27
  },
  {
   "cell_type": "code",
   "id": "a80a0ebe-2fb1-4fd0-a847-08ecadd817d2",
   "metadata": {
    "ExecuteTime": {
     "end_time": "2024-11-28T04:00:57.929797Z",
     "start_time": "2024-11-28T04:00:55.220516Z"
    }
   },
   "source": [
    "# Encode the 'Label' column\n",
    "le = LabelEncoder()\n",
    "all_data['Label_Encoded'] = le.fit_transform(all_data['Label'])\n",
    "numerical_data = all_data.select_dtypes(include=['number'])\n",
    "\n",
    "# Recalculate correlations with the target variable (Label_Encoded)\n",
    "target_corr = numerical_data.corrwith(all_data['Label_Encoded']).abs().sort_values(ascending=False)\n",
    "\n",
    "# Select top 10 most correlated features\n",
    "top_features = target_corr.head(10).index\n",
    "\n",
    "# Plot heatmap for top features\n",
    "import seaborn as sns\n",
    "import matplotlib.pyplot as plt\n",
    "\n",
    "plt.figure(figsize=(10, 6))\n",
    "sns.heatmap(numerical_data[top_features].corr(), cmap='coolwarm', annot=True, fmt='.2f')\n",
    "plt.title('Top 10 Features Correlation Heatmap')\n",
    "plt.show()"
   ],
   "outputs": [
    {
     "name": "stderr",
     "output_type": "stream",
     "text": [
      "/Library/Frameworks/Python.framework/Versions/3.12/lib/python3.12/site-packages/numpy/lib/_function_base_impl.py:2999: RuntimeWarning: invalid value encountered in divide\n",
      "  c /= stddev[:, None]\n",
      "/Library/Frameworks/Python.framework/Versions/3.12/lib/python3.12/site-packages/numpy/lib/_function_base_impl.py:3000: RuntimeWarning: invalid value encountered in divide\n",
      "  c /= stddev[None, :]\n"
     ]
    },
    {
     "data": {
      "text/plain": [
       "<Figure size 1000x600 with 2 Axes>"
      ],
      "image/png": "[encoded data removed]"
     },
     "metadata": {},
     "output_type": "display_data"
    }
   ],
   "execution_count": 28
  },
  {
   "metadata": {},
   "cell_type": "markdown",
   "source": "Standardization. We choose to use the standardization because it's better to detect outliers because of its outlier sensitivity. ",
   "id": "689a48c0c47d012b"
  },
  {
   "cell_type": "code",
   "id": "31d3f3d6-fa7f-4b42-9a6e-64c204adeab4",
   "metadata": {
    "ExecuteTime": {
     "end_time": "2024-11-28T04:01:36.938131Z",
     "start_time": "2024-11-28T04:01:33.774527Z"
    }
   },
   "source": [
    "# Calculate the Z score \n",
    "z_scores = np.abs(zscore(all_data[numerical_columns]))\n",
    "\n",
    "# identifiy outliers \n",
    "outliers = np.where(z_scores > 3)\n",
    "print(\"Outliers found at : \", outliers)"
   ],
   "outputs": [
    {
     "name": "stdout",
     "output_type": "stream",
     "text": [
      "Outliers found at :  (array([      0,       1,       1, ..., 2351107, 2351107, 2351107]), array([48, 15, 36, ..., 64, 65, 68]))\n"
     ]
    }
   ],
   "execution_count": 29
  },
  {
   "metadata": {},
   "cell_type": "markdown",
   "source": [
    "For this project, the best choice is to choose a supervised learning because we have a labeled data, the supervised learning is very effective to classified, so it's good for us because we need to classify attacks in categories.\n",
    "Later, we could implement also unsupervised learning to further our analysis.  \n",
    "The best choice seems to be KNN algorithm because we have a labeled dataset, we have multiple attack classes. KNN is good to handle multiclass problems effectively"
   ],
   "id": "4a39bd7cd264cd99"
  },
  {
   "metadata": {},
   "cell_type": "markdown",
   "source": "We'll start by prepare the dataset for the training. Starting by defining features and target variable and split it into training and testing sets. ",
   "id": "f97f4e27f1f194c8"
  },
  {
   "metadata": {
    "ExecuteTime": {
     "end_time": "2024-11-28T04:01:43.450922Z",
     "start_time": "2024-11-28T04:01:43.170102Z"
    }
   },
   "cell_type": "code",
   "source": [
    "# Define features and target variable \n",
    "X = all_data[top_features] # Top correlated features from preprocessing\n",
    "y = all_data['Label_Encoded']\n",
    "\n",
    "# Split the dataset into 70% training and 30% testing \n",
    "X_train, X_test, y_train, y_test = train_test_split(X, y, test_size=0.3, random_state=42)\n",
    "\n",
    "print(\"Training set size:\", X_train.shape)\n",
    "print(\"Test set size:\", X_test.shape)"
   ],
   "id": "a7c2d0ecb2f27fbe",
   "outputs": [
    {
     "name": "stdout",
     "output_type": "stream",
     "text": [
      "Training set size: (1645775, 10)\n",
      "Test set size: (705333, 10)\n"
     ]
    }
   ],
   "execution_count": 30
  },
  {
   "metadata": {},
   "cell_type": "markdown",
   "source": "Now, let's initialize and tain the KNN model",
   "id": "a654af0f0b619708"
  },
  {
   "metadata": {
    "ExecuteTime": {
     "end_time": "2024-11-28T03:06:34.922621Z",
     "start_time": "2024-11-28T03:06:34.921449Z"
    }
   },
   "cell_type": "code",
   "source": "",
   "id": "98bc6d0f2b1aeb5d",
   "outputs": [],
   "execution_count": null
  },
  {
   "metadata": {
    "ExecuteTime": {
     "end_time": "2024-11-28T03:06:35.489371Z",
     "start_time": "2024-11-28T03:06:35.488115Z"
    }
   },
   "cell_type": "code",
   "source": "",
   "id": "1bf85ada2979164c",
   "outputs": [],
   "execution_count": null
  },
  {
   "metadata": {
    "ExecuteTime": {
     "end_time": "2024-11-28T04:01:58.359290Z",
     "start_time": "2024-11-28T04:01:57.292792Z"
    }
   },
   "cell_type": "code",
   "source": [
    "# Initialize the scaler\n",
    "scaler = StandardScaler()\n",
    "\n",
    "# Standardize the training and testing data\n",
    "X_train = scaler.fit_transform(X_train)\n",
    "X_test = scaler.transform(X_test)\n",
    "\n",
    "print(\"Standardized Training Data:\")\n",
    "print(X_train[:5])\n",
    "# Initialize the KNN model\n",
    "knn = KNeighborsClassifier(n_neighbors=5)\n",
    "\n",
    "#Train the model on the training set\n",
    "knn.fit(X_train, y_train)\n",
    "print(knn)"
   ],
   "id": "696c8cd927006181",
   "outputs": [
    {
     "name": "stdout",
     "output_type": "stream",
     "text": [
      "Standardized Training Data:\n",
      "[[-0.44261639 -0.44261639 -0.21990937 -0.63979771  1.82207103  1.78214855\n",
      "   1.25015591  2.08720247  1.15270197 -0.54320143]\n",
      " [-0.44261639 -0.44261639 -0.44208952 -0.63979771  1.57987079  1.54345496\n",
      "   0.15903458  0.87662521  0.57004819 -0.54320143]\n",
      " [-0.44261639 -0.44261639 -0.44210927 -0.63979771  1.19235041  1.16154522\n",
      "   0.56191015  0.87662521  0.57004819 -0.54320143]\n",
      " [-0.44261639 -0.44261639 -0.44235542 -0.63979771  1.09547032  1.06606779\n",
      "   2.13983946 -0.93924069  0.57004819 -0.54320143]\n",
      " [-0.44261639 -0.44261639  0.51855383 -0.63979771  1.28923051  1.25702266\n",
      "   0.3268994   0.87662521  1.15270197 -0.3000416 ]]\n",
      "KNeighborsClassifier()\n"
     ]
    }
   ],
   "execution_count": 31
  },
  {
   "metadata": {},
   "cell_type": "markdown",
   "source": "Now, let's make predictions with our test set",
   "id": "286101d01fb3136a"
  },
  {
   "metadata": {
    "ExecuteTime": {
     "end_time": "2024-11-28T04:05:21.897458Z",
     "start_time": "2024-11-28T04:02:04.730435Z"
    }
   },
   "cell_type": "code",
   "source": [
    "# Predict on the test set\n",
    "y_pred = knn.predict(X_test)"
   ],
   "id": "a33aa9c4c8c6b56d",
   "outputs": [],
   "execution_count": 32
  },
  {
   "metadata": {},
   "cell_type": "markdown",
   "source": "We'll evaluate the performacne using metrics like precision, recall, F1-score and confusion matrix to see the accuracy of our model",
   "id": "34bb7c8e66c2da9f"
  },
  {
   "metadata": {
    "ExecuteTime": {
     "end_time": "2024-11-28T04:05:28.164376Z",
     "start_time": "2024-11-28T04:05:27.945288Z"
    }
   },
   "cell_type": "code",
   "source": [
    "# Evaluate performance\n",
    "print(\"Classification Report:\")\n",
    "print(classification_report(y_test, y_pred))\n",
    "\n",
    "print(\"Confusion Matrix:\")\n",
    "print(confusion_matrix(y_test, y_pred))"
   ],
   "id": "5e137cfcf3aeeb76",
   "outputs": [
    {
     "name": "stdout",
     "output_type": "stream",
     "text": [
      "Classification Report:\n",
      "              precision    recall  f1-score   support\n",
      "\n",
      "           0       1.00      1.00      1.00    538679\n",
      "           1       1.00      1.00      1.00     38327\n",
      "           2       1.00      1.00      1.00      3151\n",
      "           3       1.00      1.00      1.00     69217\n",
      "           4       1.00      1.00      1.00      1668\n",
      "           5       1.00      1.00      1.00      1722\n",
      "           6       1.00      1.00      1.00      2361\n",
      "           7       1.00      0.75      0.86         4\n",
      "           8       1.00      1.00      1.00     50204\n",
      "\n",
      "    accuracy                           1.00    705333\n",
      "   macro avg       1.00      0.97      0.98    705333\n",
      "weighted avg       1.00      1.00      1.00    705333\n",
      "\n",
      "Confusion Matrix:\n",
      "[[538679      0      0      0      0      0      0      0      0]\n",
      " [     5  38322      0      0      0      0      0      0      0]\n",
      " [     0      0   3151      0      0      0      0      0      0]\n",
      " [     0      0      0  69217      0      0      0      0      0]\n",
      " [     0      0      0      0   1668      0      0      0      0]\n",
      " [     0      0      0      0      2   1720      0      0      0]\n",
      " [     0      0      0      0      0      0   2361      0      0]\n",
      " [     0      0      0      0      0      0      0      3      1]\n",
      " [     0      0      0      0      0      0      0      0  50204]]\n"
     ]
    }
   ],
   "execution_count": 33
  },
  {
   "metadata": {},
   "cell_type": "markdown",
   "source": [
    "**Performance**\n",
    "\n",
    "Here, we can observe that the model works very well. Almost all categories have a F1-score of 1, meaning the model performs well with no false positive and true negative.\n",
    "There is class 7 and 11 that does not have all at 1. \n",
    "- Class 7 has a recall of 0.75, meaning 25% of this instance were not correctly classified. \n",
    "- Class 11 has a recall of 0.83 , meaning it also misses some instances (17%). \n",
    "\n",
    "**Confusion matrix**\n",
    "- Class 7: Out of 4 actual instances, only 3 were correctly classified, and 1 was misclassified as Class 8.\n",
    "- Class 11: Out of 6 actual instances, 5 were correctly classified, and 1 was misclassified as Class 12."
   ],
   "id": "429e53794f7e6176"
  },
  {
   "metadata": {},
   "cell_type": "markdown",
   "source": "### Random Forest ",
   "id": "de0d7e34daff97e"
  },
  {
   "metadata": {
    "ExecuteTime": {
     "end_time": "2024-11-28T05:46:14.333592Z",
     "start_time": "2024-11-28T05:33:54.137322Z"
    }
   },
   "cell_type": "code",
   "source": [
    "from imblearn.over_sampling import SMOTE\n",
    "from sklearn.ensemble import RandomForestClassifier\n",
    "from sklearn.metrics import classification_report, confusion_matrix\n",
    "from sklearn.model_selection import train_test_split\n",
    "\n",
    "# Features and target variable\n",
    "X = all_data[top_features].drop(columns=['Label', 'Label_Encoded'])  # Drop redundant features\n",
    "y = all_data['Label_Encoded']\n",
    "\n",
    "# Split the dataset\n",
    "X_train, X_test, y_train, y_test = train_test_split(X, y, test_size=0.3, random_state=42)\n",
    "\n",
    "# Apply SMOTE to the training data\n",
    "smote = SMOTE(k_neighbors=3, random_state=42)\n",
    "X_train_balanced, y_train_balanced = smote.fit_resample(X_train, y_train)\n",
    "\n",
    "print(\"Class distribution after SMOTE:\")\n",
    "print(pd.Series(y_train_balanced).value_counts())\n",
    "\n",
    "# Train Random Forest on the balanced data\n",
    "rf_model = RandomForestClassifier(n_estimators=100, class_weight='balanced', random_state=42)\n",
    "rf_model.fit(X_train_balanced, y_train_balanced)\n"
   ],
   "id": "17e8d66e1c77a562",
   "outputs": [
    {
     "name": "stdout",
     "output_type": "stream",
     "text": [
      "Class distribution after SMOTE:\n",
      "Label_Encoded\n",
      "0    1256785\n",
      "8    1256785\n",
      "1    1256785\n",
      "3    1256785\n",
      "5    1256785\n",
      "4    1256785\n",
      "6    1256785\n",
      "2    1256785\n",
      "7    1256785\n",
      "Name: count, dtype: int64\n"
     ]
    },
    {
     "data": {
      "text/plain": [
       "RandomForestClassifier(class_weight='balanced', random_state=42)"
      ],
      "text/html": [
       "<style>#sk-container-id-3 {\n",
       "  /* Definition of color scheme common for light and dark mode */\n",
       "  --sklearn-color-text: black;\n",
       "  --sklearn-color-line: gray;\n",
       "  /* Definition of color scheme for unfitted estimators */\n",
       "  --sklearn-color-unfitted-level-0: #fff5e6;\n",
       "  --sklearn-color-unfitted-level-1: #f6e4d2;\n",
       "  --sklearn-color-unfitted-level-2: #ffe0b3;\n",
       "  --sklearn-color-unfitted-level-3: chocolate;\n",
       "  /* Definition of color scheme for fitted estimators */\n",
       "  --sklearn-color-fitted-level-0: #f0f8ff;\n",
       "  --sklearn-color-fitted-level-1: #d4ebff;\n",
       "  --sklearn-color-fitted-level-2: #b3dbfd;\n",
       "  --sklearn-color-fitted-level-3: cornflowerblue;\n",
       "\n",
       "  /* Specific color for light theme */\n",
       "  --sklearn-color-text-on-default-background: var(--sg-text-color, var(--theme-code-foreground, var(--jp-content-font-color1, black)));\n",
       "  --sklearn-color-background: var(--sg-background-color, var(--theme-background, var(--jp-layout-color0, white)));\n",
       "  --sklearn-color-border-box: var(--sg-text-color, var(--theme-code-foreground, var(--jp-content-font-color1, black)));\n",
       "  --sklearn-color-icon: #696969;\n",
       "\n",
       "  @media (prefers-color-scheme: dark) {\n",
       "    /* Redefinition of color scheme for dark theme */\n",
       "    --sklearn-color-text-on-default-background: var(--sg-text-color, var(--theme-code-foreground, var(--jp-content-font-color1, white)));\n",
       "    --sklearn-color-background: var(--sg-background-color, var(--theme-background, var(--jp-layout-color0, #111)));\n",
       "    --sklearn-color-border-box: var(--sg-text-color, var(--theme-code-foreground, var(--jp-content-font-color1, white)));\n",
       "    --sklearn-color-icon: #878787;\n",
       "  }\n",
       "}\n",
       "\n",
       "#sk-container-id-3 {\n",
       "  color: var(--sklearn-color-text);\n",
       "}\n",
       "\n",
       "#sk-container-id-3 pre {\n",
       "  padding: 0;\n",
       "}\n",
       "\n",
       "#sk-container-id-3 input.sk-hidden--visually {\n",
       "  border: 0;\n",
       "  clip: rect(1px 1px 1px 1px);\n",
       "  clip: rect(1px, 1px, 1px, 1px);\n",
       "  height: 1px;\n",
       "  margin: -1px;\n",
       "  overflow: hidden;\n",
       "  padding: 0;\n",
       "  position: absolute;\n",
       "  width: 1px;\n",
       "}\n",
       "\n",
       "#sk-container-id-3 div.sk-dashed-wrapped {\n",
       "  border: 1px dashed var(--sklearn-color-line);\n",
       "  margin: 0 0.4em 0.5em 0.4em;\n",
       "  box-sizing: border-box;\n",
       "  padding-bottom: 0.4em;\n",
       "  background-color: var(--sklearn-color-background);\n",
       "}\n",
       "\n",
       "#sk-container-id-3 div.sk-container {\n",
       "  /* jupyter's `normalize.less` sets `[hidden] { display: none; }`\n",
       "     but bootstrap.min.css set `[hidden] { display: none !important; }`\n",
       "     so we also need the `!important` here to be able to override the\n",
       "     default hidden behavior on the sphinx rendered scikit-learn.org.\n",
       "     See: https://github.com/scikit-learn/scikit-learn/issues/21755 */\n",
       "  display: inline-block !important;\n",
       "  position: relative;\n",
       "}\n",
       "\n",
       "#sk-container-id-3 div.sk-text-repr-fallback {\n",
       "  display: none;\n",
       "}\n",
       "\n",
       "div.sk-parallel-item,\n",
       "div.sk-serial,\n",
       "div.sk-item {\n",
       "  /* draw centered vertical line to link estimators */\n",
       "  background-image: linear-gradient(var(--sklearn-color-text-on-default-background), var(--sklearn-color-text-on-default-background));\n",
       "  background-size: 2px 100%;\n",
       "  background-repeat: no-repeat;\n",
       "  background-position: center center;\n",
       "}\n",
       "\n",
       "/* Parallel-specific style estimator block */\n",
       "\n",
       "#sk-container-id-3 div.sk-parallel-item::after {\n",
       "  content: \"\";\n",
       "  width: 100%;\n",
       "  border-bottom: 2px solid var(--sklearn-color-text-on-default-background);\n",
       "  flex-grow: 1;\n",
       "}\n",
       "\n",
       "#sk-container-id-3 div.sk-parallel {\n",
       "  display: flex;\n",
       "  align-items: stretch;\n",
       "  justify-content: center;\n",
       "  background-color: var(--sklearn-color-background);\n",
       "  position: relative;\n",
       "}\n",
       "\n",
       "#sk-container-id-3 div.sk-parallel-item {\n",
       "  display: flex;\n",
       "  flex-direction: column;\n",
       "}\n",
       "\n",
       "#sk-container-id-3 div.sk-parallel-item:first-child::after {\n",
       "  align-self: flex-end;\n",
       "  width: 50%;\n",
       "}\n",
       "\n",
       "#sk-container-id-3 div.sk-parallel-item:last-child::after {\n",
       "  align-self: flex-start;\n",
       "  width: 50%;\n",
       "}\n",
       "\n",
       "#sk-container-id-3 div.sk-parallel-item:only-child::after {\n",
       "  width: 0;\n",
       "}\n",
       "\n",
       "/* Serial-specific style estimator block */\n",
       "\n",
       "#sk-container-id-3 div.sk-serial {\n",
       "  display: flex;\n",
       "  flex-direction: column;\n",
       "  align-items: center;\n",
       "  background-color: var(--sklearn-color-background);\n",
       "  padding-right: 1em;\n",
       "  padding-left: 1em;\n",
       "}\n",
       "\n",
       "\n",
       "/* Toggleable style: style used for estimator/Pipeline/ColumnTransformer box that is\n",
       "clickable and can be expanded/collapsed.\n",
       "- Pipeline and ColumnTransformer use this feature and define the default style\n",
       "- Estimators will overwrite some part of the style using the `sk-estimator` class\n",
       "*/\n",
       "\n",
       "/* Pipeline and ColumnTransformer style (default) */\n",
       "\n",
       "#sk-container-id-3 div.sk-toggleable {\n",
       "  /* Default theme specific background. It is overwritten whether we have a\n",
       "  specific estimator or a Pipeline/ColumnTransformer */\n",
       "  background-color: var(--sklearn-color-background);\n",
       "}\n",
       "\n",
       "/* Toggleable label */\n",
       "#sk-container-id-3 label.sk-toggleable__label {\n",
       "  cursor: pointer;\n",
       "  display: block;\n",
       "  width: 100%;\n",
       "  margin-bottom: 0;\n",
       "  padding: 0.5em;\n",
       "  box-sizing: border-box;\n",
       "  text-align: center;\n",
       "}\n",
       "\n",
       "#sk-container-id-3 label.sk-toggleable__label-arrow:before {\n",
       "  /* Arrow on the left of the label */\n",
       "  content: \"▸\";\n",
       "  float: left;\n",
       "  margin-right: 0.25em;\n",
       "  color: var(--sklearn-color-icon);\n",
       "}\n",
       "\n",
       "#sk-container-id-3 label.sk-toggleable__label-arrow:hover:before {\n",
       "  color: var(--sklearn-color-text);\n",
       "}\n",
       "\n",
       "/* Toggleable content - dropdown */\n",
       "\n",
       "#sk-container-id-3 div.sk-toggleable__content {\n",
       "  max-height: 0;\n",
       "  max-width: 0;\n",
       "  overflow: hidden;\n",
       "  text-align: left;\n",
       "  /* unfitted */\n",
       "  background-color: var(--sklearn-color-unfitted-level-0);\n",
       "}\n",
       "\n",
       "#sk-container-id-3 div.sk-toggleable__content.fitted {\n",
       "  /* fitted */\n",
       "  background-color: var(--sklearn-color-fitted-level-0);\n",
       "}\n",
       "\n",
       "#sk-container-id-3 div.sk-toggleable__content pre {\n",
       "  margin: 0.2em;\n",
       "  border-radius: 0.25em;\n",
       "  color: var(--sklearn-color-text);\n",
       "  /* unfitted */\n",
       "  background-color: var(--sklearn-color-unfitted-level-0);\n",
       "}\n",
       "\n",
       "#sk-container-id-3 div.sk-toggleable__content.fitted pre {\n",
       "  /* unfitted */\n",
       "  background-color: var(--sklearn-color-fitted-level-0);\n",
       "}\n",
       "\n",
       "#sk-container-id-3 input.sk-toggleable__control:checked~div.sk-toggleable__content {\n",
       "  /* Expand drop-down */\n",
       "  max-height: 200px;\n",
       "  max-width: 100%;\n",
       "  overflow: auto;\n",
       "}\n",
       "\n",
       "#sk-container-id-3 input.sk-toggleable__control:checked~label.sk-toggleable__label-arrow:before {\n",
       "  content: \"▾\";\n",
       "}\n",
       "\n",
       "/* Pipeline/ColumnTransformer-specific style */\n",
       "\n",
       "#sk-container-id-3 div.sk-label input.sk-toggleable__control:checked~label.sk-toggleable__label {\n",
       "  color: var(--sklearn-color-text);\n",
       "  background-color: var(--sklearn-color-unfitted-level-2);\n",
       "}\n",
       "\n",
       "#sk-container-id-3 div.sk-label.fitted input.sk-toggleable__control:checked~label.sk-toggleable__label {\n",
       "  background-color: var(--sklearn-color-fitted-level-2);\n",
       "}\n",
       "\n",
       "/* Estimator-specific style */\n",
       "\n",
       "/* Colorize estimator box */\n",
       "#sk-container-id-3 div.sk-estimator input.sk-toggleable__control:checked~label.sk-toggleable__label {\n",
       "  /* unfitted */\n",
       "  background-color: var(--sklearn-color-unfitted-level-2);\n",
       "}\n",
       "\n",
       "#sk-container-id-3 div.sk-estimator.fitted input.sk-toggleable__control:checked~label.sk-toggleable__label {\n",
       "  /* fitted */\n",
       "  background-color: var(--sklearn-color-fitted-level-2);\n",
       "}\n",
       "\n",
       "#sk-container-id-3 div.sk-label label.sk-toggleable__label,\n",
       "#sk-container-id-3 div.sk-label label {\n",
       "  /* The background is the default theme color */\n",
       "  color: var(--sklearn-color-text-on-default-background);\n",
       "}\n",
       "\n",
       "/* On hover, darken the color of the background */\n",
       "#sk-container-id-3 div.sk-label:hover label.sk-toggleable__label {\n",
       "  color: var(--sklearn-color-text);\n",
       "  background-color: var(--sklearn-color-unfitted-level-2);\n",
       "}\n",
       "\n",
       "/* Label box, darken color on hover, fitted */\n",
       "#sk-container-id-3 div.sk-label.fitted:hover label.sk-toggleable__label.fitted {\n",
       "  color: var(--sklearn-color-text);\n",
       "  background-color: var(--sklearn-color-fitted-level-2);\n",
       "}\n",
       "\n",
       "/* Estimator label */\n",
       "\n",
       "#sk-container-id-3 div.sk-label label {\n",
       "  font-family: monospace;\n",
       "  font-weight: bold;\n",
       "  display: inline-block;\n",
       "  line-height: 1.2em;\n",
       "}\n",
       "\n",
       "#sk-container-id-3 div.sk-label-container {\n",
       "  text-align: center;\n",
       "}\n",
       "\n",
       "/* Estimator-specific */\n",
       "#sk-container-id-3 div.sk-estimator {\n",
       "  font-family: monospace;\n",
       "  border: 1px dotted var(--sklearn-color-border-box);\n",
       "  border-radius: 0.25em;\n",
       "  box-sizing: border-box;\n",
       "  margin-bottom: 0.5em;\n",
       "  /* unfitted */\n",
       "  background-color: var(--sklearn-color-unfitted-level-0);\n",
       "}\n",
       "\n",
       "#sk-container-id-3 div.sk-estimator.fitted {\n",
       "  /* fitted */\n",
       "  background-color: var(--sklearn-color-fitted-level-0);\n",
       "}\n",
       "\n",
       "/* on hover */\n",
       "#sk-container-id-3 div.sk-estimator:hover {\n",
       "  /* unfitted */\n",
       "  background-color: var(--sklearn-color-unfitted-level-2);\n",
       "}\n",
       "\n",
       "#sk-container-id-3 div.sk-estimator.fitted:hover {\n",
       "  /* fitted */\n",
       "  background-color: var(--sklearn-color-fitted-level-2);\n",
       "}\n",
       "\n",
       "/* Specification for estimator info (e.g. \"i\" and \"?\") */\n",
       "\n",
       "/* Common style for \"i\" and \"?\" */\n",
       "\n",
       ".sk-estimator-doc-link,\n",
       "a:link.sk-estimator-doc-link,\n",
       "a:visited.sk-estimator-doc-link {\n",
       "  float: right;\n",
       "  font-size: smaller;\n",
       "  line-height: 1em;\n",
       "  font-family: monospace;\n",
       "  background-color: var(--sklearn-color-background);\n",
       "  border-radius: 1em;\n",
       "  height: 1em;\n",
       "  width: 1em;\n",
       "  text-decoration: none !important;\n",
       "  margin-left: 1ex;\n",
       "  /* unfitted */\n",
       "  border: var(--sklearn-color-unfitted-level-1) 1pt solid;\n",
       "  color: var(--sklearn-color-unfitted-level-1);\n",
       "}\n",
       "\n",
       ".sk-estimator-doc-link.fitted,\n",
       "a:link.sk-estimator-doc-link.fitted,\n",
       "a:visited.sk-estimator-doc-link.fitted {\n",
       "  /* fitted */\n",
       "  border: var(--sklearn-color-fitted-level-1) 1pt solid;\n",
       "  color: var(--sklearn-color-fitted-level-1);\n",
       "}\n",
       "\n",
       "/* On hover */\n",
       "div.sk-estimator:hover .sk-estimator-doc-link:hover,\n",
       ".sk-estimator-doc-link:hover,\n",
       "div.sk-label-container:hover .sk-estimator-doc-link:hover,\n",
       ".sk-estimator-doc-link:hover {\n",
       "  /* unfitted */\n",
       "  background-color: var(--sklearn-color-unfitted-level-3);\n",
       "  color: var(--sklearn-color-background);\n",
       "  text-decoration: none;\n",
       "}\n",
       "\n",
       "div.sk-estimator.fitted:hover .sk-estimator-doc-link.fitted:hover,\n",
       ".sk-estimator-doc-link.fitted:hover,\n",
       "div.sk-label-container:hover .sk-estimator-doc-link.fitted:hover,\n",
       ".sk-estimator-doc-link.fitted:hover {\n",
       "  /* fitted */\n",
       "  background-color: var(--sklearn-color-fitted-level-3);\n",
       "  color: var(--sklearn-color-background);\n",
       "  text-decoration: none;\n",
       "}\n",
       "\n",
       "/* Span, style for the box shown on hovering the info icon */\n",
       ".sk-estimator-doc-link span {\n",
       "  display: none;\n",
       "  z-index: 9999;\n",
       "  position: relative;\n",
       "  font-weight: normal;\n",
       "  right: .2ex;\n",
       "  padding: .5ex;\n",
       "  margin: .5ex;\n",
       "  width: min-content;\n",
       "  min-width: 20ex;\n",
       "  max-width: 50ex;\n",
       "  color: var(--sklearn-color-text);\n",
       "  box-shadow: 2pt 2pt 4pt #999;\n",
       "  /* unfitted */\n",
       "  background: var(--sklearn-color-unfitted-level-0);\n",
       "  border: .5pt solid var(--sklearn-color-unfitted-level-3);\n",
       "}\n",
       "\n",
       ".sk-estimator-doc-link.fitted span {\n",
       "  /* fitted */\n",
       "  background: var(--sklearn-color-fitted-level-0);\n",
       "  border: var(--sklearn-color-fitted-level-3);\n",
       "}\n",
       "\n",
       ".sk-estimator-doc-link:hover span {\n",
       "  display: block;\n",
       "}\n",
       "\n",
       "/* \"?\"-specific style due to the `<a>` HTML tag */\n",
       "\n",
       "#sk-container-id-3 a.estimator_doc_link {\n",
       "  float: right;\n",
       "  font-size: 1rem;\n",
       "  line-height: 1em;\n",
       "  font-family: monospace;\n",
       "  background-color: var(--sklearn-color-background);\n",
       "  border-radius: 1rem;\n",
       "  height: 1rem;\n",
       "  width: 1rem;\n",
       "  text-decoration: none;\n",
       "  /* unfitted */\n",
       "  color: var(--sklearn-color-unfitted-level-1);\n",
       "  border: var(--sklearn-color-unfitted-level-1) 1pt solid;\n",
       "}\n",
       "\n",
       "#sk-container-id-3 a.estimator_doc_link.fitted {\n",
       "  /* fitted */\n",
       "  border: var(--sklearn-color-fitted-level-1) 1pt solid;\n",
       "  color: var(--sklearn-color-fitted-level-1);\n",
       "}\n",
       "\n",
       "/* On hover */\n",
       "#sk-container-id-3 a.estimator_doc_link:hover {\n",
       "  /* unfitted */\n",
       "  background-color: var(--sklearn-color-unfitted-level-3);\n",
       "  color: var(--sklearn-color-background);\n",
       "  text-decoration: none;\n",
       "}\n",
       "\n",
       "#sk-container-id-3 a.estimator_doc_link.fitted:hover {\n",
       "  /* fitted */\n",
       "  background-color: var(--sklearn-color-fitted-level-3);\n",
       "}\n",
       "</style><div id=\"sk-container-id-3\" class=\"sk-top-container\"><div class=\"sk-text-repr-fallback\"><pre>RandomForestClassifier(class_weight=&#x27;balanced&#x27;, random_state=42)</pre><b>In a Jupyter environment, please rerun this cell to show the HTML representation or trust the notebook. <br />On GitHub, the HTML representation is unable to render, please try loading this page with nbviewer.org.</b></div><div class=\"sk-container\" hidden><div class=\"sk-item\"><div class=\"sk-estimator fitted sk-toggleable\"><input class=\"sk-toggleable__control sk-hidden--visually\" id=\"sk-estimator-id-3\" type=\"checkbox\" checked><label for=\"sk-estimator-id-3\" class=\"sk-toggleable__label fitted sk-toggleable__label-arrow fitted\">&nbsp;&nbsp;RandomForestClassifier<a class=\"sk-estimator-doc-link fitted\" rel=\"noreferrer\" target=\"_blank\" href=\"https://scikit-learn.org/1.5/modules/generated/sklearn.ensemble.RandomForestClassifier.html\">?<span>Documentation for RandomForestClassifier</span></a><span class=\"sk-estimator-doc-link fitted\">i<span>Fitted</span></span></label><div class=\"sk-toggleable__content fitted\"><pre>RandomForestClassifier(class_weight=&#x27;balanced&#x27;, random_state=42)</pre></div> </div></div></div></div>"
      ]
     },
     "execution_count": 67,
     "metadata": {},
     "output_type": "execute_result"
    }
   ],
   "execution_count": 67
  },
  {
   "metadata": {
    "ExecuteTime": {
     "end_time": "2024-11-28T05:46:17.921228Z",
     "start_time": "2024-11-28T05:46:14.340675Z"
    }
   },
   "cell_type": "code",
   "source": [
    "# Predict\n",
    "y_pred = rf_model.predict(X_test)"
   ],
   "id": "c1aebfafa2bd3d0f",
   "outputs": [],
   "execution_count": 68
  },
  {
   "metadata": {
    "ExecuteTime": {
     "end_time": "2024-11-28T05:46:19.314438Z",
     "start_time": "2024-11-28T05:46:19.131176Z"
    }
   },
   "cell_type": "code",
   "source": [
    "# Evaluate\n",
    "print(\"Classification Report:\")\n",
    "print(classification_report(y_test, y_pred))"
   ],
   "id": "7583aca4f71280b2",
   "outputs": [
    {
     "name": "stdout",
     "output_type": "stream",
     "text": [
      "Classification Report:\n",
      "              precision    recall  f1-score   support\n",
      "\n",
      "           0       1.00      0.96      0.98    538679\n",
      "           1       0.99      1.00      0.99     38327\n",
      "           2       0.58      0.71      0.64      3151\n",
      "           3       0.90      0.99      0.94     69217\n",
      "           4       0.44      0.96      0.60      1668\n",
      "           5       0.62      0.70      0.66      1722\n",
      "           6       0.30      0.98      0.46      2361\n",
      "           7       1.00      0.75      0.86         4\n",
      "           8       0.93      0.99      0.96     50204\n",
      "\n",
      "    accuracy                           0.97    705333\n",
      "   macro avg       0.75      0.89      0.79    705333\n",
      "weighted avg       0.98      0.97      0.97    705333\n",
      "\n"
     ]
    }
   ],
   "execution_count": 69
  },
  {
   "metadata": {
    "ExecuteTime": {
     "end_time": "2024-11-28T05:33:30.640374Z",
     "start_time": "2024-11-28T05:33:30.637935Z"
    }
   },
   "cell_type": "code",
   "source": "",
   "id": "6338e5fae1626773",
   "outputs": [],
   "execution_count": null
  },
  {
   "metadata": {},
   "cell_type": "code",
   "outputs": [],
   "execution_count": null,
   "source": "",
   "id": "29b2b4635493738f"
  }
 ],
 "metadata": {
  "kernelspec": {
   "display_name": "Python 3 (ipykernel)",
   "language": "python",
   "name": "python3"
  },
  "language_info": {
   "codemirror_mode": {
    "name": "ipython",
    "version": 3
   },
   "file_extension": ".py",
   "mimetype": "text/x-python",
   "name": "python",
   "nbconvert_exporter": "python",
   "pygments_lexer": "ipython3",
   "version": "3.12.7"
  }
 },
 "nbformat": 4,
 "nbformat_minor": 5
}
